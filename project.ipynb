{
 "cells": [
  {
   "cell_type": "markdown",
   "metadata": {},
   "source": [
    "Final Project for Text Information Systems (CS410 Fall 2022)\n",
    "Video Game Review Classifier\n",
    "Nate Smolczyk (nds6)"
   ]
  },
  {
   "cell_type": "code",
   "execution_count": 1,
   "metadata": {},
   "outputs": [
    {
     "ename": "FileExistsError",
     "evalue": "[Errno 17] File exists: 'videogames.json'",
     "output_type": "error",
     "traceback": [
      "\u001b[0;31m---------------------------------------------------------------------------\u001b[0m",
      "\u001b[0;31mFileExistsError\u001b[0m                           Traceback (most recent call last)",
      "\u001b[0;32m<ipython-input-1-05daa03516b0>\u001b[0m in \u001b[0;36m<module>\u001b[0;34m\u001b[0m\n\u001b[1;32m      8\u001b[0m \u001b[0;34m\u001b[0m\u001b[0m\n\u001b[1;32m      9\u001b[0m \u001b[0mrawdata\u001b[0m \u001b[0;34m=\u001b[0m \u001b[0mopen\u001b[0m\u001b[0;34m(\u001b[0m\u001b[0;34m'Video_Games_5.json'\u001b[0m\u001b[0;34m,\u001b[0m \u001b[0;34m'r'\u001b[0m\u001b[0;34m)\u001b[0m\u001b[0;34m\u001b[0m\u001b[0;34m\u001b[0m\u001b[0m\n\u001b[0;32m---> 10\u001b[0;31m \u001b[0mvideogamedata\u001b[0m \u001b[0;34m=\u001b[0m \u001b[0mopen\u001b[0m\u001b[0;34m(\u001b[0m\u001b[0;34m'videogames.json'\u001b[0m\u001b[0;34m,\u001b[0m \u001b[0;34m'x'\u001b[0m\u001b[0;34m)\u001b[0m\u001b[0;34m\u001b[0m\u001b[0;34m\u001b[0m\u001b[0m\n\u001b[0m\u001b[1;32m     11\u001b[0m \u001b[0mLines\u001b[0m \u001b[0;34m=\u001b[0m \u001b[0mrawdata\u001b[0m\u001b[0;34m.\u001b[0m\u001b[0mreadlines\u001b[0m\u001b[0;34m(\u001b[0m\u001b[0;34m)\u001b[0m\u001b[0;34m\u001b[0m\u001b[0;34m\u001b[0m\u001b[0m\n\u001b[1;32m     12\u001b[0m \u001b[0;34m\u001b[0m\u001b[0m\n",
      "\u001b[0;31mFileExistsError\u001b[0m: [Errno 17] File exists: 'videogames.json'"
     ]
    }
   ],
   "source": [
    "# The dataset includes all sorts of video game products, like memory cards and controllers. First I parse out the video game reviews and the attributes I need. \n",
    "\n",
    "import nltk\n",
    "from nltk.corpus import stopwords\n",
    "import pandas as pd\n",
    "import json\n",
    "import matplotlib.pyplot as plt\n",
    "\n",
    "rawdata = open('Video_Games_5.json', 'r')\n",
    "videogamedata = open('videogames.json', 'x')\n",
    "Lines = rawdata.readlines()\n",
    "\n",
    "for line in Lines:\n",
    "    x = json.loads(line)\n",
    "    obj = {**x}\n",
    "    if 'style' in obj:\n",
    "        y = obj['style']\n",
    "        if 'Format:' in y:\n",
    "            format = y['Format:']\n",
    "            if(format == ' Video Game' and 'reviewText' in obj):\n",
    "                obj2 = {}\n",
    "                obj2['rating'] = obj['overall']\n",
    "                obj2['text'] = obj['reviewText']\n",
    "                videogamedata.write(json.dumps(obj2))\n",
    "                videogamedata.write(',')\n",
    "                videogamedata.write('\\n')"
   ]
  },
  {
   "cell_type": "code",
   "execution_count": 2,
   "metadata": {},
   "outputs": [],
   "source": [
    "df = pd.read_json('./videogames.json')"
   ]
  },
  {
   "cell_type": "code",
   "execution_count": 3,
   "metadata": {},
   "outputs": [
    {
     "data": {
      "text/plain": [
       "<BarContainer object of 5 artists>"
      ]
     },
     "execution_count": 3,
     "metadata": {},
     "output_type": "execute_result"
    },
    {
     "data": {
      "image/png": "[encoded data removed]",
      "text/plain": [
       "<Figure size 432x288 with 1 Axes>"
      ]
     },
     "metadata": {
      "needs_background": "light"
     },
     "output_type": "display_data"
    }
   ],
   "source": [
    "count1starratings = df[df['rating'] == 1].size\n",
    "count2starratings = df[df['rating'] == 2].size\n",
    "count3starratings = df[df['rating'] == 3].size\n",
    "count4starratings = df[df['rating'] == 4].size\n",
    "count5starratings = df[df['rating'] == 5].size\n",
    "\n",
    "yAxis = [count1starratings, count2starratings, count3starratings, count4starratings, count5starratings]\n",
    "xAxis = ['1 Star', '2 Star', '3 Star', '4 Star', '5 Star']\n",
    "\n",
    "plt.bar(xAxis, yAxis)"
   ]
  },
  {
   "cell_type": "code",
   "execution_count": 4,
   "metadata": {},
   "outputs": [],
   "source": [
    "allWords = []\n",
    "from nltk.tokenize import word_tokenize\n",
    "import string\n",
    "wordCounts = {}\n",
    "documents = []\n",
    "\n",
    "stop_words = set(stopwords.words('english'))\n",
    "\n",
    "for index, row in df.iterrows():\n",
    "    text = row['text']\n",
    "    tokens = word_tokenize(text)\n",
    "    filteredTokens = [w.lower() for w in tokens if not w.lower() in stop_words and len(w) > 1 and len(w) < 30]\n",
    "    for token in filteredTokens:\n",
    "        allWords.append(token)\n",
    "        if token in wordCounts:\n",
    "            wordCounts[token] += 1\n",
    "        else:\n",
    "            wordCounts[token] = 1\n",
    "    val = \"pos\"\n",
    "    if row[\"rating\"] in [1, 2]:\n",
    "        val = \"neg\"\n",
    "    documents.append((filteredTokens, val))\n",
    "    "
   ]
  },
  {
   "cell_type": "code",
   "execution_count": 5,
   "metadata": {},
   "outputs": [],
   "source": [
    "\n",
    "all_words = nltk.FreqDist(w for w in allWords)\n",
    "\n",
    "word_features = list(all_words)[:2000]\n",
    "\n",
    "def document_features(document):\n",
    "    document_words = set(document)\n",
    "    features = {}\n",
    "    for word in word_features:\n",
    "        features['contains({})'.format(word)] = (word in document_words)\n",
    "    return features"
   ]
  },
  {
   "cell_type": "code",
   "execution_count": 6,
   "metadata": {},
   "outputs": [],
   "source": [
    "# Train Naive Bayes classifier\n",
    "featuresets = [(document_features(d), c) for (d,c) in documents]\n",
    "train_set, test_set = featuresets[0:200], featuresets[201:400]\n",
    "classifier = nltk.NaiveBayesClassifier.train(train_set)"
   ]
  },
  {
   "cell_type": "code",
   "execution_count": 7,
   "metadata": {},
   "outputs": [
    {
     "name": "stdout",
     "output_type": "stream",
     "text": [
      "0.8994974874371859\n"
     ]
    }
   ],
   "source": [
    "# Test the classifier\n",
    "print(nltk.classify.accuracy(classifier, test_set))"
   ]
  },
  {
   "cell_type": "code",
   "execution_count": 13,
   "metadata": {},
   "outputs": [
    {
     "name": "stdout",
     "output_type": "stream",
     "text": [
      "Most Informative Features\n",
      "        contains(boring) = True              neg : pos    =     26.4 : 1.0\n",
      "      contains(standard) = True              neg : pos    =     26.4 : 1.0\n",
      "        contains(stupid) = True              neg : pos    =     26.4 : 1.0\n",
      "        contains(aspect) = True              neg : pos    =     15.8 : 1.0\n",
      "       contains(average) = True              neg : pos    =     15.8 : 1.0\n",
      "         contains(basic) = True              neg : pos    =     15.8 : 1.0\n",
      "        contains(bigger) = True              neg : pos    =     15.8 : 1.0\n",
      "          contains(book) = True              neg : pos    =     15.8 : 1.0\n",
      "         contains(cause) = True              neg : pos    =     15.8 : 1.0\n",
      "      contains(consider) = True              neg : pos    =     15.8 : 1.0\n"
     ]
    }
   ],
   "source": [
    "# Show the most important features as interpreted by Naive Bayes\n",
    "classifier.show_most_informative_features(10)"
   ]
  },
  {
   "cell_type": "code",
   "execution_count": null,
   "metadata": {},
   "outputs": [],
   "source": []
  }
 ],
 "metadata": {
  "kernelspec": {
   "display_name": "Python 3.8.8",
   "language": "python",
   "name": "python3"
  },
  "language_info": {
   "codemirror_mode": {
    "name": "ipython",
    "version": 3
   },
   "file_extension": ".py",
   "mimetype": "text/x-python",
   "name": "python",
   "nbconvert_exporter": "python",
   "pygments_lexer": "ipython3",
   "version": "3.8.8"
  },
  "orig_nbformat": 4,
  "vscode": {
   "interpreter": {
    "hash": "40d3a090f54c6569ab1632332b64b2c03c39dcf918b08424e98f38b5ae0af88f"
   }
  }
 },
 "nbformat": 4,
 "nbformat_minor": 2
}
