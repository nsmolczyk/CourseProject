{
 "cells": [
  {
   "cell_type": "markdown",
   "metadata": {},
   "source": [
    "Final Project for Text Information Systems (CS410 Fall 2022)\n",
    "Video Game Review Classifier\n",
    "Nate Smolczyk (nds6)"
   ]
  },
  {
   "cell_type": "code",
   "execution_count": 3,
   "metadata": {},
   "outputs": [],
   "source": [
    "# The dataset includes all sorts of video game products, like memory cards and controllers. First I parse out the video game reviews and the attributes I need. \n",
    "\n",
    "import nltk\n",
    "from nltk.corpus import stopwords\n",
    "import pandas as pd\n",
    "import json\n",
    "import matplotlib.pyplot as plt\n",
    "\n",
    "\n",
    "# Note: Raw data downloaded at https://jmcauley.ucsd.edu/data/amazon_v2/categoryFilesSmall/Video_Games_5.json.gz\n",
    "rawdata = open('Video_Games_5.json', 'r')\n",
    "videogamedata = open('videogames.json', 'a')\n",
    "Lines = rawdata.readlines()\n",
    "last = Lines[-1]\n",
    "\n",
    "videogamedata.write('[\\n')\n",
    "for line in Lines:\n",
    "    x = json.loads(line)\n",
    "    obj = {**x}\n",
    "    if 'style' in obj:\n",
    "        y = obj['style']\n",
    "        if 'Format:' in y:\n",
    "            format = y['Format:']\n",
    "            if(format == ' Video Game' and 'reviewText' in obj):\n",
    "                obj2 = {}\n",
    "                obj2['rating'] = obj['overall']\n",
    "                obj2['text'] = obj['reviewText'] \n",
    "                videogamedata.write(json.dumps(obj2) + ',\\n')\n",
    "    if line is last:\n",
    "        videogamedata.write(']')\n",
    "\n"
   ]
  },
  {
   "cell_type": "code",
   "execution_count": 4,
   "metadata": {},
   "outputs": [
    {
     "name": "stdout",
     "output_type": "stream",
     "text": [
      "497577\n"
     ]
    }
   ],
   "source": [
    "print(len(Lines))"
   ]
  },
  {
   "cell_type": "code",
   "execution_count": 76,
   "metadata": {},
   "outputs": [],
   "source": [
    "from sklearn.utils import shuffle\n",
    "df = pd.read_json('./videogames.json')\n",
    "df = shuffle(df)"
   ]
  },
  {
   "cell_type": "code",
   "execution_count": 140,
   "metadata": {},
   "outputs": [
    {
     "data": {
      "text/plain": [
       "<BarContainer object of 5 artists>"
      ]
     },
     "execution_count": 140,
     "metadata": {},
     "output_type": "execute_result"
    },
    {
     "data": {
      "image/png": "[encoded data removed]",
      "text/plain": [
       "<Figure size 432x288 with 1 Axes>"
      ]
     },
     "metadata": {
      "needs_background": "light"
     },
     "output_type": "display_data"
    }
   ],
   "source": [
    "onestarratings = df[df['rating'] == 1]\n",
    "twostarratings = df[df['rating'] == 2]\n",
    "threestarratings = df[df['rating'] == 3]\n",
    "fourstarratings = df[df['rating'] == 4]\n",
    "fivestarratings = df[df['rating'] == 5]\n",
    "\n",
    "yAxis = [onestarratings.size, twostarratings.size, threestarratings.size, fourstarratings.size, fivestarratings.size]\n",
    "xAxis = ['1 Star', '2 Star', '3 Star', '4 Star', '5 Star']\n",
    "\n",
    "plt.bar(xAxis, yAxis)\n"
   ]
  },
  {
   "cell_type": "code",
   "execution_count": 215,
   "metadata": {},
   "outputs": [],
   "source": [
    "from sklearn.utils import shuffle\n",
    "from nltk.tokenize import word_tokenize\n",
    "subsetdata = pd.DataFrame()\n",
    "subsetdata = subsetdata.append(onestarratings[0:12500])\n",
    "#subsetdata = subsetdata.append(twostarratings[0:5000])\n",
    "#subsetdata = subsetdata.append(threestarratings[0:5000])\n",
    "#subsetdata = subsetdata.append(fourstarratings[0:5000])\n",
    "subsetdata = subsetdata.append(fivestarratings[0:12500])\n",
    "subsetdata = shuffle(subsetdata)\n",
    "\n"
   ]
  },
  {
   "cell_type": "code",
   "execution_count": 237,
   "metadata": {},
   "outputs": [],
   "source": [
    "allWords = []\n",
    "from nltk.tokenize import word_tokenize\n",
    "from nltk.stem import PorterStemmer\n",
    "import string\n",
    "wordCounts = {}\n",
    "documents = []\n",
    "\n",
    "def starToSentiment(rating):\n",
    "    if(rating == 1 or rating == 2):\n",
    "        return \"negative\"\n",
    "    if(rating == 3):\n",
    "        return \"neutral\"\n",
    "    if(rating == 4 or rating == 5):\n",
    "        return \"positive\"\n",
    "\n",
    "stop_words = set(stopwords.words('english'))\n",
    "ps = PorterStemmer()\n",
    "\n",
    "def getTokens(document):\n",
    "    tokens = word_tokenize(document)\n",
    "    tokens = [t for t in tokens if t.isalpha() ]\n",
    "    tokens = [t.lower() for t in tokens ]\n",
    "    tokens = [t for t in tokens if not t in stop_words]\n",
    "    tokens = [t for t in tokens if len(t) > 2 and len(t) < 30]\n",
    "    tokens = [ps.stem(t) for t in tokens ]\n",
    "    return tokens\n",
    "\n",
    "\n",
    "\n",
    "for index, row in subsetdata.iterrows():\n",
    "    text = row['text']\n",
    "    tokens = getTokens(text)\n",
    "    for token in tokens:\n",
    "        allWords.append(token)\n",
    "    documents.append((tokens, starToSentiment(row[\"rating\"])))\n",
    "    "
   ]
  },
  {
   "cell_type": "code",
   "execution_count": 238,
   "metadata": {},
   "outputs": [
    {
     "data": {
      "text/plain": [
       "[('game', 55369),\n",
       " ('play', 16694),\n",
       " ('like', 11289),\n",
       " ('get', 9861),\n",
       " ('one', 9747),\n",
       " ('time', 8074),\n",
       " ('great', 6492),\n",
       " ('good', 6012),\n",
       " ('even', 5513),\n",
       " ('make', 5329),\n",
       " ('realli', 5310),\n",
       " ('fun', 5180),\n",
       " ('would', 4799),\n",
       " ('first', 4724),\n",
       " ('much', 4636),\n",
       " ('stori', 4577),\n",
       " ('graphic', 4526),\n",
       " ('charact', 4425),\n",
       " ('love', 4262),\n",
       " ('use', 4230)]"
      ]
     },
     "execution_count": 238,
     "metadata": {},
     "output_type": "execute_result"
    }
   ],
   "source": [
    "from collections import Counter\n",
    "word_count = Counter(allWords)\n",
    "word_count.most_common(20)"
   ]
  },
  {
   "cell_type": "code",
   "execution_count": 239,
   "metadata": {},
   "outputs": [],
   "source": [
    "\n",
    "all_words = nltk.FreqDist(w for w in allWords)\n",
    "\n",
    "word_features = list(all_words)[:5000]\n",
    "\n",
    "def retrieveReviewLengthFeature(count):\n",
    "    if count <= 10:\n",
    "        return \"LessThan10\"\n",
    "    elif count > 10 and count < 100:\n",
    "        return \"between10and100\"\n",
    "    elif count >= 100 and count < 200:\n",
    "        return \"between100and200\"\n",
    "    elif count >= 200 and count < 300:\n",
    "        return \"between200and300\"\n",
    "    elif count >= 300 and count < 400:\n",
    "        return \"between300and400\"\n",
    "    elif count >= 400 and count < 500:\n",
    "        return \"betwee400and500\"\n",
    "    elif count >= 500:\n",
    "        return \"greaterThan500\"\n",
    "    \n",
    "\n",
    "def getFeatures(bagOfWords):\n",
    "    uniqueWords = set(bagOfWords)\n",
    "    features = {}\n",
    "    for word in word_features:\n",
    "        features[word] = (word in uniqueWords)\n",
    "    features['reviewLength'] = retrieveReviewLengthFeature(len(bagOfWords))\n",
    "    return features"
   ]
  },
  {
   "cell_type": "code",
   "execution_count": 240,
   "metadata": {},
   "outputs": [
    {
     "name": "stdout",
     "output_type": "stream",
     "text": [
      "19664\n"
     ]
    }
   ],
   "source": [
    "print(len(documents))"
   ]
  },
  {
   "cell_type": "code",
   "execution_count": 241,
   "metadata": {},
   "outputs": [
    {
     "name": "stdout",
     "output_type": "stream",
     "text": [
      "19664\n"
     ]
    }
   ],
   "source": [
    "# Train Naive Bayes classifier\n",
    "featuresets = [(getFeatures(bagOfWords), rating) for (bagOfWords,rating) in documents]\n",
    "print(len(featuresets))\n",
    "train_set, test_set = featuresets[0:15000], featuresets[15000:20000]\n",
    "classifier = nltk.NaiveBayesClassifier.train(train_set)"
   ]
  },
  {
   "cell_type": "code",
   "execution_count": 242,
   "metadata": {},
   "outputs": [
    {
     "name": "stdout",
     "output_type": "stream",
     "text": [
      "0.7521440823327615\n"
     ]
    }
   ],
   "source": [
    "# Test the classifier\n",
    "print(nltk.classify.accuracy(classifier, test_set))"
   ]
  },
  {
   "cell_type": "code",
   "execution_count": 254,
   "metadata": {},
   "outputs": [
    {
     "name": "stdout",
     "output_type": "stream",
     "text": [
      "positive\n"
     ]
    }
   ],
   "source": [
    "def classifyText(text):\n",
    "    tokens = getTokens(text)\n",
    "    return classifier.classify(getFeatures(tokens))\n",
    "\n",
    "print(classifyText(\"garbage garbage garbage garbage garbage garbage garbage garbage garbage garbage garbage garbage garbage garbage garbage garbage garbage garbage garbage\"))"
   ]
  },
  {
   "cell_type": "code",
   "execution_count": 256,
   "metadata": {},
   "outputs": [
    {
     "name": "stdout",
     "output_type": "stream",
     "text": [
      "Most Informative Features\n",
      "                 securom = True           negati : positi =     49.2 : 1.0\n",
      "                  pathet = True           negati : positi =     47.8 : 1.0\n",
      "                unaccept = True           negati : positi =     45.5 : 1.0\n",
      "                  refund = True           negati : positi =     44.3 : 1.0\n",
      "               unrespons = True           negati : positi =     43.1 : 1.0\n",
      "                    scam = True           negati : positi =     40.7 : 1.0\n",
      "                  horrid = True           negati : positi =     31.5 : 1.0\n",
      "                 disgrac = True           negati : positi =     31.3 : 1.0\n",
      "                unfinish = True           negati : positi =     30.8 : 1.0\n",
      "                reinstal = True           negati : positi =     30.1 : 1.0\n"
     ]
    }
   ],
   "source": [
    "classifier.show_most_informative_features(10)"
   ]
  },
  {
   "cell_type": "code",
   "execution_count": null,
   "metadata": {},
   "outputs": [],
   "source": [
    "from nltk.classify.util import names_demo\n",
    "\n",
    "classifier = names_demo(nltk.NaiveBayesClassifier.train)\n",
    "classifier.show_most_informative_features()"
   ]
  },
  {
   "cell_type": "code",
   "execution_count": 203,
   "metadata": {},
   "outputs": [
    {
     "name": "stdout",
     "output_type": "stream",
     "text": [
      "[1, 2, 3, 4, 5]\n"
     ]
    }
   ],
   "source": [
    "vals = [1,2,3,4,5]\n",
    "\n",
    "for val in vals:\n",
    "    val = \"hi\"\n",
    "\n",
    "print(vals)"
   ]
  },
  {
   "cell_type": "code",
   "execution_count": null,
   "metadata": {},
   "outputs": [],
   "source": []
  }
 ],
 "metadata": {
  "kernelspec": {
   "display_name": "Python 3.8.8",
   "language": "python",
   "name": "python3"
  },
  "language_info": {
   "codemirror_mode": {
    "name": "ipython",
    "version": 3
   },
   "file_extension": ".py",
   "mimetype": "text/x-python",
   "name": "python",
   "nbconvert_exporter": "python",
   "pygments_lexer": "ipython3",
   "version": "3.8.8"
  },
  "orig_nbformat": 4,
  "vscode": {
   "interpreter": {
    "hash": "40d3a090f54c6569ab1632332b64b2c03c39dcf918b08424e98f38b5ae0af88f"
   }
  }
 },
 "nbformat": 4,
 "nbformat_minor": 2
}
