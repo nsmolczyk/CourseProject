{
 "cells": [
  {
   "cell_type": "markdown",
   "metadata": {},
   "source": [
    "<h1>Final Project for Text Information Systems (CS410 Fall 2022)</h1>\n",
    "Video Game Review Classifier by Nate Smolczyk (nds6)"
   ]
  },
  {
   "cell_type": "code",
   "execution_count": 165,
   "metadata": {},
   "outputs": [],
   "source": [
    "import sklearn as sk\n",
    "from sklearn.utils import shuffle\n",
    "from sklearn.naive_bayes import MultinomialNB\n",
    "from sklearn.pipeline import Pipeline\n",
    "from sklearn.feature_extraction.text import TfidfTransformer\n",
    "from sklearn.feature_extraction.text import CountVectorizer\n",
    "from sklearn.feature_extraction.text import TfidfVectorizer\n",
    "from sklearn.linear_model import LogisticRegression\n",
    "from sklearn.linear_model import SGDClassifier\n",
    "from sklearn.model_selection import train_test_split\n",
    "from nltk.tokenize import word_tokenize\n",
    "from nltk.stem import PorterStemmer\n",
    "from nltk.corpus import stopwords\n",
    "from sklearn.metrics import classification_report\n",
    "from sklearn.metrics import accuracy_score\n",
    "import joblib"
   ]
  },
  {
   "cell_type": "markdown",
   "metadata": {},
   "source": [
    "First, we need to load in the data into a Pandas dataframe. I've cleaned up the original datasource to only have the data that is relevant to me, which is the review text and rating."
   ]
  },
  {
   "cell_type": "code",
   "execution_count": 166,
   "metadata": {},
   "outputs": [],
   "source": [
    "df = pd.read_json('./videogames.json')\n",
    "df = shuffle(df)"
   ]
  },
  {
   "cell_type": "markdown",
   "metadata": {},
   "source": [
    "As we can see, the rating categories are not evenly distributed. In this dataset, the reviews were overwhelmingly 5 stars"
   ]
  },
  {
   "cell_type": "code",
   "execution_count": 167,
   "metadata": {},
   "outputs": [
    {
     "data": {
      "text/plain": [
       "<BarContainer object of 5 artists>"
      ]
     },
     "execution_count": 167,
     "metadata": {},
     "output_type": "execute_result"
    },
    {
     "data": {
      "image/png": "[encoded data removed]",
      "text/plain": [
       "<Figure size 432x288 with 1 Axes>"
      ]
     },
     "metadata": {
      "needs_background": "light"
     },
     "output_type": "display_data"
    }
   ],
   "source": [
    "onestarratings = df[df['rating'] == 1]\n",
    "twostarratings = df[df['rating'] == 2]\n",
    "threestarratings = df[df['rating'] == 3]\n",
    "fourstarratings = df[df['rating'] == 4]\n",
    "fivestarratings = df[df['rating'] == 5]\n",
    "\n",
    "yAxis = [onestarratings.rating.size, twostarratings.rating.size, threestarratings.rating.size, fourstarratings.rating.size, fivestarratings.rating.size]\n",
    "xAxis = ['1 Star', '2 Star', '3 Star', '4 Star', '5 Star']\n",
    "\n",
    "plt.bar(xAxis, yAxis)\n"
   ]
  },
  {
   "cell_type": "markdown",
   "metadata": {},
   "source": [
    "To mitigate this issue, I created a subset of data with an equal number of reviews from each category:"
   ]
  },
  {
   "cell_type": "code",
   "execution_count": 168,
   "metadata": {},
   "outputs": [],
   "source": [
    "subsetdata_no3starReviews = pd.DataFrame()\n",
    "subsetdata_no3starReviews = subsetdata_no3starReviews.append(onestarratings[0:5800])\n",
    "subsetdata_no3starReviews = subsetdata_no3starReviews.append(twostarratings[0:5800])\n",
    "subsetdata_no3starReviews = subsetdata_no3starReviews.append(fourstarratings[0:5800])\n",
    "subsetdata_no3starReviews = subsetdata_no3starReviews.append(fivestarratings[0:5800])\n",
    "subsetdata_with3starReviews = subsetdata_no3starReviews.append(threestarratings[0:5800])\n",
    "subsetdata_no3starReviews = shuffle(subsetdata_no3starReviews)\n",
    "subsetdata_with3starReviews = shuffle(subsetdata_with3starReviews)"
   ]
  },
  {
   "cell_type": "code",
   "execution_count": 169,
   "metadata": {},
   "outputs": [],
   "source": [
    "# I found that I was unable to achieve suitable accuracy classifying the 5 different categories. \n",
    "# I simplified the problem by lumping the reviews into three categories: Positive, Negative, and Neutral\n",
    "def ThreeCategories(rating):\n",
    "    if(rating == 1 or rating == 2):\n",
    "        return \"negative\"\n",
    "    if(rating == 3):\n",
    "        return \"neutral\"\n",
    "    if(rating == 4 or rating == 5):\n",
    "        return \"positive\"\n",
    "    return \"\"\n",
    "\n",
    "def TwoCategories_3StarsPositive(rating):\n",
    "    if(rating == 1 or rating == 2):\n",
    "        return \"negative\"\n",
    "    if(rating == 3 or rating == 4 or rating == 5):\n",
    "        return \"positive\"\n",
    "    return \"\"\n",
    "\n",
    "def TwoCategories_3StarsNegative(rating):\n",
    "    if(rating == 1 or rating == 2 or rating == 3):\n",
    "        return \"negative\"\n",
    "    if(rating == 4 or rating == 5):\n",
    "        return \"positive\"\n",
    "    return \"\"\n",
    "\n",
    "stop_words = set(stopwords.words('english'))\n",
    "ps = PorterStemmer()\n",
    "\n",
    "# This function cleans up the document for better processing\n",
    "def cleanDocument(document):\n",
    "    tokens = word_tokenize(document)\n",
    "    tokens = [t for t in tokens if t.isalpha() ] # removes symbols\n",
    "    tokens = [t.lower() for t in tokens ] # converts all words to lowercase\n",
    "    tokens = [t for t in tokens if not t in stop_words] # removes stop words\n",
    "    tokens = [t for t in tokens if len(t) > 2 and len(t) < 30] # removes words shorter than 2 characters or longer than 30 characters\n",
    "    tokens = [ps.stem(t) for t in tokens ] # stems each word\n",
    "    return \" \".join(tokens)\n",
    "\n",
    "subsetdata_no3starReviews.text = subsetdata_no3starReviews.text.apply(cleanDocument)\n",
    "#subsetdata_no3starReviews.rating = subsetdata_no3starReviews.rating.apply(TwoCategories_3StarsPositive)"
   ]
  },
  {
   "cell_type": "code",
   "execution_count": 163,
   "metadata": {},
   "outputs": [],
   "source": [
    "# Create the testing and training data split\n",
    "X = subsetdata_no3starReviews.text\n",
    "y = subsetdata_no3starReviews.rating\n",
    "\n",
    "X_train, X_test, y_train, y_test = train_test_split(X, y)"
   ]
  },
  {
   "cell_type": "code",
   "execution_count": 164,
   "metadata": {},
   "outputs": [
    {
     "name": "stdout",
     "output_type": "stream",
     "text": [
      "Overall Accuracy: 0.7910344827586206\n",
      "              precision    recall  f1-score   support\n",
      "\n",
      "    negative       0.72      0.95      0.82      2882\n",
      "    positive       0.93      0.64      0.75      2918\n",
      "\n",
      "    accuracy                           0.79      5800\n",
      "   macro avg       0.82      0.79      0.79      5800\n",
      "weighted avg       0.82      0.79      0.79      5800\n",
      "\n"
     ]
    }
   ],
   "source": [
    "# After trying a few different classification models, I found that Stochastic Gradient Descent gave the highest accuracy\n",
    "\n",
    "sgdClassifier = SGDClassifier(loss='epsilon_insensitive', penalty='l2',alpha=1e-3, max_iter=1000, tol=None)\n",
    "\n",
    "classifier = sgdClassifier\n",
    "\n",
    "# In this pipeline, the features are unigrams and bigrams, and each word is transformed using IDF weighting\n",
    "pipeline = Pipeline([('vect', CountVectorizer(ngram_range=(1,2))), ('tfidf', TfidfTransformer()), ('clf', classifier)])\n",
    "pipeline.fit(X_train, y_train)\n",
    "joblib.dump(pipeline, 'model.joblib') # export the model for use by the server \n",
    "\n",
    "y_pred = pipeline.predict(X_test)\n",
    "\n",
    "print('Overall Accuracy: ' + str(accuracy_score(y_pred, y_test)))\n",
    "print(classification_report(y_test, y_pred))\n"
   ]
  },
  {
   "cell_type": "code",
   "execution_count": null,
   "metadata": {},
   "outputs": [],
   "source": []
  }
 ],
 "metadata": {
  "kernelspec": {
   "display_name": "Python 3.8.8",
   "language": "python",
   "name": "python3"
  },
  "language_info": {
   "codemirror_mode": {
    "name": "ipython",
    "version": 3
   },
   "file_extension": ".py",
   "mimetype": "text/x-python",
   "name": "python",
   "nbconvert_exporter": "python",
   "pygments_lexer": "ipython3",
   "version": "3.8.8"
  },
  "orig_nbformat": 4,
  "vscode": {
   "interpreter": {
    "hash": "40d3a090f54c6569ab1632332b64b2c03c39dcf918b08424e98f38b5ae0af88f"
   }
  }
 },
 "nbformat": 4,
 "nbformat_minor": 2
}
